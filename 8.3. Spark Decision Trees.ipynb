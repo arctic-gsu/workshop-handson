{
 "cells": [
  {
   "cell_type": "code",
   "execution_count": 1,
   "metadata": {
    "colab": {
     "base_uri": "https://localhost:8080/"
    },
    "id": "uGppQZgrc1DS",
    "outputId": "9888d65e-4434-45bd-a5ee-fd67af7773d2"
   },
   "outputs": [
    {
     "name": "stdout",
     "output_type": "stream",
     "text": [
      "Collecting pyspark\n",
      "  Downloading pyspark-3.5.1.tar.gz (317.0 MB)\n",
      "\u001b[2K     \u001b[90m━━━━━━━━━━━━━━━━━━━━━━━━━━━━━━━━━━━━━━━━\u001b[0m \u001b[32m317.0/317.0 MB\u001b[0m \u001b[31m3.9 MB/s\u001b[0m eta \u001b[36m0:00:00\u001b[0m\n",
      "\u001b[?25h  Preparing metadata (setup.py) ... \u001b[?25l\u001b[?25hdone\n",
      "Requirement already satisfied: py4j==0.10.9.7 in /usr/local/lib/python3.10/dist-packages (from pyspark) (0.10.9.7)\n",
      "Building wheels for collected packages: pyspark\n",
      "  Building wheel for pyspark (setup.py) ... \u001b[?25l\u001b[?25hdone\n",
      "  Created wheel for pyspark: filename=pyspark-3.5.1-py2.py3-none-any.whl size=317488493 sha256=abf823cd865b884efe3ab898f0fd22ce303f61dd3c85ea0ee5ec9acfc69943b2\n",
      "  Stored in directory: /root/.cache/pip/wheels/80/1d/60/2c256ed38dddce2fdd93be545214a63e02fbd8d74fb0b7f3a6\n",
      "Successfully built pyspark\n",
      "Installing collected packages: pyspark\n",
      "Successfully installed pyspark-3.5.1\n"
     ]
    }
   ],
   "source": [
    "!pip install pyspark"
   ]
  },
  {
   "cell_type": "code",
   "execution_count": 4,
   "metadata": {
    "id": "DQxT91fDc4ng"
   },
   "outputs": [],
   "source": [
    "from pyspark.ml.regression import DecisionTreeRegressor\n",
    "from pyspark.sql import SparkSession\n",
    "from pyspark.ml.feature import VectorAssembler"
   ]
  },
  {
   "cell_type": "code",
   "execution_count": 6,
   "metadata": {
    "id": "Duav-SQ1c-Rt"
   },
   "outputs": [],
   "source": [
    "spark = SparkSession.builder.appName(\"DecisionTreeExample\").getOrCreate()"
   ]
  },
  {
   "cell_type": "markdown",
   "metadata": {
    "id": "nT-Kp9oPdtdr"
   },
   "source": [
    "Read data"
   ]
  },
  {
   "cell_type": "code",
   "execution_count": 7,
   "metadata": {
    "id": "0fdg-H5zdeAA"
   },
   "outputs": [],
   "source": [
    "data = spark.read.option(\"header\", \"true\").option(\"inferSchema\", \"true\").csv(\"realestate.csv\")"
   ]
  },
  {
   "cell_type": "code",
   "execution_count": 11,
   "metadata": {
    "colab": {
     "base_uri": "https://localhost:8080/"
    },
    "id": "AMu_9uV0d2oZ",
    "outputId": "4642a70a-35b4-48c0-be0c-5560876dc9f0"
   },
   "outputs": [
    {
     "name": "stdout",
     "output_type": "stream",
     "text": [
      "+---+---------------+--------+-------------+-----------------------+--------+---------+---------------+\n",
      "| No|TransactionDate|HouseAge|DistanceToMRT|NumberConvenienceStores|Latitude|Longitude|PriceOfUnitArea|\n",
      "+---+---------------+--------+-------------+-----------------------+--------+---------+---------------+\n",
      "|  1|       2012.917|    32.0|     84.87882|                     10|24.98298|121.54024|           37.9|\n",
      "|  2|       2012.917|    19.5|     306.5947|                      9|24.98034|121.53951|           42.2|\n",
      "+---+---------------+--------+-------------+-----------------------+--------+---------+---------------+\n",
      "only showing top 2 rows\n",
      "\n"
     ]
    }
   ],
   "source": [
    "data.show(2)"
   ]
  },
  {
   "cell_type": "code",
   "execution_count": 13,
   "metadata": {
    "id": "6tZm2Iopdva7"
   },
   "outputs": [],
   "source": [
    "assembler = VectorAssembler().setInputCols([\"HouseAge\", \"DistanceToMRT\", \"NumberConvenienceStores\", \"Latitude\", \"Longitude\"]).setOutputCol(\"features\")"
   ]
  },
  {
   "cell_type": "code",
   "execution_count": 14,
   "metadata": {
    "id": "cRCUSShJeJ7J"
   },
   "outputs": [],
   "source": [
    "df = assembler.transform(data).select(\"PriceOfUnitArea\", \"features\")"
   ]
  },
  {
   "cell_type": "code",
   "execution_count": 16,
   "metadata": {
    "id": "V8namFupeeAy"
   },
   "outputs": [],
   "source": [
    "trainTest = df.randomSplit([0.8,0.2])\n",
    "trainDF = trainTest[0]\n",
    "testDF = trainTest[1]"
   ]
  },
  {
   "cell_type": "markdown",
   "metadata": {
    "id": "S0qLjUyyetxF"
   },
   "source": [
    "Initialize DecisionTreeRegressor:\n",
    "\n",
    "From https://spark.apache.org/docs/latest/api/python/reference/api/pyspark.ml.regression.DecisionTreeRegressor.html:\n",
    "\n",
    "class pyspark.ml.regression.DecisionTreeRegressor(*, featuresCol: str = 'features', labelCol: str = 'label', predictionCol: str = 'prediction', maxDepth: int = 5, maxBins: int = 32, minInstancesPerNode: int = 1, minInfoGain: float = 0.0, maxMemoryInMB: int = 256, cacheNodeIds: bool = False, checkpointInterval: int = 10, impurity: str = 'variance', seed: Optional[int] = None, varianceCol: Optional[str] = None, weightCol: Optional[str] = None, leafCol: str = '', minWeightFractionPerNode: float = 0.0)[source]¶"
   ]
  },
  {
   "cell_type": "code",
   "execution_count": 17,
   "metadata": {
    "id": "D0NSxV4Ueg9Y"
   },
   "outputs": [],
   "source": [
    "spark_DecisionTree = DecisionTreeRegressor(featuresCol = 'features', labelCol='PriceOfUnitArea')"
   ]
  },
  {
   "cell_type": "code",
   "execution_count": 18,
   "metadata": {
    "id": "hNBCnecBfGJf"
   },
   "outputs": [],
   "source": [
    "model = spark_DecisionTree.fit(trainDF)"
   ]
  },
  {
   "cell_type": "code",
   "execution_count": 21,
   "metadata": {
    "id": "P1qp3bpCfM1G"
   },
   "outputs": [],
   "source": [
    "predictions = model.transform(testDF).cache()"
   ]
  },
  {
   "cell_type": "code",
   "execution_count": 23,
   "metadata": {
    "colab": {
     "base_uri": "https://localhost:8080/"
    },
    "id": "jD3HplMEfSvR",
    "outputId": "da8c8c85-0bea-4bfd-87fb-1ee01d3ad886"
   },
   "outputs": [
    {
     "name": "stdout",
     "output_type": "stream",
     "text": [
      "+---------------+--------------------+------------------+\n",
      "|PriceOfUnitArea|            features|        prediction|\n",
      "+---------------+--------------------+------------------+\n",
      "|           12.8|[16.5,4082.015,0....|           15.6625|\n",
      "|           15.5|[26.9,4449.27,0.0...| 18.08888888888889|\n",
      "|           17.4|[27.1,4412.765,1....|12.899999999999999|\n",
      "|           18.6|[13.5,4197.349,0....|16.100000000000023|\n",
      "|           20.5|[16.3,4066.587,0....|           15.6625|\n",
      "+---------------+--------------------+------------------+\n",
      "only showing top 5 rows\n",
      "\n"
     ]
    }
   ],
   "source": [
    "predictions.show(5)"
   ]
  },
  {
   "cell_type": "markdown",
   "metadata": {
    "id": "YjJ6INkJgNdJ"
   },
   "source": [
    "We convert to rdd as they are easy to deal with while extarcting values compared to dataframe."
   ]
  },
  {
   "cell_type": "code",
   "execution_count": 24,
   "metadata": {
    "id": "XZNQCutRfgQf"
   },
   "outputs": [],
   "source": [
    "predicted_values = predictions.select(\"prediction\").rdd.map(lambda x:x[0])\n",
    "label_values = predictions.select(\"PriceOfUnitArea\").rdd.map(lambda x:x[0])"
   ]
  },
  {
   "cell_type": "code",
   "execution_count": 26,
   "metadata": {
    "id": "C3ZDCxthf0js"
   },
   "outputs": [],
   "source": [
    "predicted_values_and_labels = predicted_values.zip(label_values).collect()"
   ]
  },
  {
   "cell_type": "code",
   "execution_count": 30,
   "metadata": {
    "colab": {
     "base_uri": "https://localhost:8080/"
    },
    "id": "eeysLcNmf7RV",
    "outputId": "41f07dc2-492f-4c94-c689-e2d70ddbc927"
   },
   "outputs": [
    {
     "name": "stdout",
     "output_type": "stream",
     "text": [
      "(15.6625, 12.8)\n",
      "(18.08888888888889, 15.5)\n",
      "(12.899999999999999, 17.4)\n",
      "(16.100000000000023, 18.6)\n",
      "(15.6625, 20.5)\n",
      "(18.08888888888889, 20.7)\n",
      "(26.586567164179108, 21.3)\n",
      "(26.450000000000003, 21.5)\n",
      "(26.586567164179108, 22.3)\n",
      "(12.899999999999999, 22.6)\n",
      "(26.586567164179108, 23.2)\n",
      "(26.586567164179108, 23.5)\n",
      "(37.21666666666667, 23.5)\n",
      "(26.586567164179108, 24.7)\n",
      "(18.1, 24.7)\n",
      "(26.586567164179108, 24.8)\n",
      "(26.586567164179108, 25.6)\n",
      "(26.586567164179108, 25.7)\n",
      "(26.450000000000003, 27.0)\n",
      "(26.586567164179108, 27.7)\n",
      "(26.586567164179108, 28.4)\n",
      "(26.586567164179108, 29.3)\n",
      "(26.586567164179108, 29.4)\n",
      "(26.586567164179108, 29.5)\n",
      "(39.64090909090909, 30.0)\n",
      "(28.720000000000006, 30.5)\n",
      "(35.03333333333334, 30.9)\n",
      "(39.64090909090909, 35.5)\n",
      "(26.586567164179108, 35.6)\n",
      "(39.64090909090909, 35.7)\n",
      "(28.720000000000006, 36.8)\n",
      "(35.03333333333334, 37.5)\n",
      "(35.03333333333334, 38.1)\n",
      "(35.03333333333334, 38.3)\n",
      "(51.52857142857143, 38.4)\n",
      "(39.64090909090909, 38.8)\n",
      "(39.64090909090909, 40.3)\n",
      "(41.71111111111111, 40.5)\n",
      "(28.720000000000006, 40.6)\n",
      "(35.03333333333334, 40.6)\n",
      "(39.64090909090909, 41.0)\n",
      "(39.64090909090909, 41.1)\n",
      "(45.94411764705882, 41.4)\n",
      "(39.64090909090909, 42.0)\n",
      "(39.64090909090909, 42.5)\n",
      "(37.21666666666667, 43.2)\n",
      "(39.64090909090909, 43.4)\n",
      "(50.166666666666664, 43.5)\n",
      "(39.64090909090909, 44.0)\n",
      "(39.64090909090909, 44.2)\n",
      "(57.79583333333333, 44.7)\n",
      "(57.79583333333333, 45.2)\n",
      "(48.199999999999996, 45.7)\n",
      "(45.94411764705882, 46.0)\n",
      "(35.03333333333334, 46.4)\n",
      "(37.21666666666667, 46.6)\n",
      "(41.22727272727272, 46.6)\n",
      "(50.166666666666664, 46.8)\n",
      "(51.52857142857143, 47.0)\n",
      "(51.52857142857143, 47.7)\n",
      "(57.79583333333333, 47.9)\n",
      "(35.03333333333334, 48.1)\n",
      "(50.166666666666664, 49.5)\n",
      "(35.03333333333334, 50.5)\n",
      "(45.94411764705882, 51.4)\n",
      "(41.71111111111111, 51.7)\n",
      "(45.94411764705882, 53.0)\n",
      "(48.199999999999996, 55.2)\n",
      "(45.94411764705882, 59.6)\n",
      "(39.64090909090909, 61.5)\n",
      "(57.79583333333333, 62.2)\n",
      "(57.79583333333333, 69.7)\n",
      "(45.94411764705882, 78.0)\n"
     ]
    }
   ],
   "source": [
    "for prediction in predicted_values_and_labels:\n",
    "  print(prediction)"
   ]
  },
  {
   "cell_type": "code",
   "execution_count": 31,
   "metadata": {
    "id": "XilAWimCgXGM"
   },
   "outputs": [],
   "source": [
    "spark.stop()"
   ]
  },
  {
   "cell_type": "code",
   "execution_count": null,
   "metadata": {
    "id": "ND81j8R3geWm"
   },
   "outputs": [],
   "source": []
  }
 ],
 "metadata": {
  "colab": {
   "provenance": []
  },
  "kernelspec": {
   "display_name": "Python 3 (ipykernel)",
   "language": "python",
   "name": "python3"
  },
  "language_info": {
   "codemirror_mode": {
    "name": "ipython",
    "version": 3
   },
   "file_extension": ".py",
   "mimetype": "text/x-python",
   "name": "python",
   "nbconvert_exporter": "python",
   "pygments_lexer": "ipython3",
   "version": "3.11.9"
  }
 },
 "nbformat": 4,
 "nbformat_minor": 4
}
