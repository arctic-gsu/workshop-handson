{
 "cells": [
  {
   "cell_type": "code",
   "execution_count": 1,
   "id": "dcacc9d4-2d4f-46a1-80f3-3f9055324d9f",
   "metadata": {},
   "outputs": [],
   "source": [
    "from pyspark import SparkContext"
   ]
  },
  {
   "cell_type": "code",
   "execution_count": 2,
   "id": "9fba1caf-203f-4c48-a778-490a5512e8fe",
   "metadata": {},
   "outputs": [],
   "source": [
    "sc = SparkContext()"
   ]
  },
  {
   "cell_type": "code",
   "execution_count": 3,
   "id": "b8e0c992-7c1b-4651-b11a-256e0978d76c",
   "metadata": {},
   "outputs": [],
   "source": [
    "alist = [1,2,3]"
   ]
  },
  {
   "cell_type": "markdown",
   "id": "9ce73318-3d65-462b-b013-a025a281ad13",
   "metadata": {},
   "source": [
    "Create map() transformation to cube numbers"
   ]
  },
  {
   "cell_type": "code",
   "execution_count": 8,
   "id": "d64eec32-25c8-4608-b1c4-334b4976d590",
   "metadata": {},
   "outputs": [],
   "source": [
    "numbRDD = sc.parallelize(alist)"
   ]
  },
  {
   "cell_type": "code",
   "execution_count": 7,
   "id": "094f97dd-1d84-409c-a2b8-3d7576b862f1",
   "metadata": {},
   "outputs": [],
   "source": [
    "# cubedRDD = numbRDD.map(lambda x: ____)\n",
    "# cubedRDD"
   ]
  },
  {
   "cell_type": "markdown",
   "id": "5ad4608a-e371-40aa-85ca-755fb6e549ae",
   "metadata": {},
   "source": [
    "Collect the results"
   ]
  },
  {
   "cell_type": "code",
   "execution_count": 8,
   "id": "343cf949-0b2f-4448-ab5e-b08d5d5a81ef",
   "metadata": {},
   "outputs": [],
   "source": [
    "# numbers_all = cubedRDD.____()"
   ]
  },
  {
   "cell_type": "markdown",
   "id": "1259eb55-b3fb-41d5-9213-c75abebb76fc",
   "metadata": {},
   "source": [
    "Print the numbers from numbers_all"
   ]
  },
  {
   "cell_type": "code",
   "execution_count": 11,
   "id": "e8acc7c3-dd54-4a36-87e2-5410413a4fbb",
   "metadata": {},
   "outputs": [],
   "source": [
    "# for numb in ____:\n",
    "# \tprint(____)"
   ]
  },
  {
   "cell_type": "markdown",
   "id": "4be66fda-e761-4ccc-b511-4848c915f004",
   "metadata": {},
   "source": [
    "------------------------------------------------------------------------------------------------------------------------"
   ]
  },
  {
   "cell_type": "markdown",
   "id": "93529fbe-67d6-4a84-8a04-ae5d25e05c4a",
   "metadata": {},
   "source": [
    "Filter the fileRDD to select lines with Spark keyword"
   ]
  },
  {
   "cell_type": "markdown",
   "id": "d5c9e98b-3275-42e2-ae79-185738711906",
   "metadata": {},
   "source": [
    "read the file \"./file_for_rdd.txt\""
   ]
  },
  {
   "cell_type": "code",
   "execution_count": 10,
   "id": "5a91705e-5174-43ab-b2e9-aadde3c8443f",
   "metadata": {},
   "outputs": [],
   "source": [
    "# fileRDD = sc.textFile(\"\")\n",
    "# fileRDD.collect()"
   ]
  },
  {
   "cell_type": "markdown",
   "id": "7f8d95c1-2938-486b-a296-c5673c9a8bcf",
   "metadata": {},
   "source": [
    "Now, use filter function to only get the line with Spark word in it"
   ]
  },
  {
   "cell_type": "code",
   "execution_count": 11,
   "id": "4fe3b400-8e5f-4a04-9c70-f2065ce14569",
   "metadata": {},
   "outputs": [],
   "source": [
    "# fileRDD_filter = fileRDD.filter(lambda line: 'Spark' in ____)"
   ]
  },
  {
   "cell_type": "code",
   "execution_count": 12,
   "id": "020d62c5-266f-41d6-81d4-cb9a387bdb87",
   "metadata": {},
   "outputs": [],
   "source": [
    "# fileRDD.collect()"
   ]
  },
  {
   "cell_type": "markdown",
   "id": "ab6f2945-c299-4c75-8b18-4e56152d85da",
   "metadata": {},
   "source": [
    "How many lines are there in fileRDD?"
   ]
  },
  {
   "cell_type": "code",
   "execution_count": 13,
   "id": "fccbab8b-ebc1-4af8-9fc9-2f60a3ecb65e",
   "metadata": {},
   "outputs": [],
   "source": [
    "# print(\"The total number of lines with the keyword Spark is\", fileRDD_filter.____())\n"
   ]
  },
  {
   "cell_type": "markdown",
   "id": "b15629dc-740e-44d1-bae8-2fefdc9219de",
   "metadata": {},
   "source": [
    "Print the first four lines of fileRDD\n"
   ]
  },
  {
   "cell_type": "code",
   "execution_count": 14,
   "id": "dfe51bec-feed-44a1-a83a-2b7337d1aeec",
   "metadata": {},
   "outputs": [],
   "source": [
    "# for line in fileRDD_filter.____(____):\n",
    "#   print(line)"
   ]
  },
  {
   "cell_type": "markdown",
   "id": "3128611d-a2c5-4a12-ada3-fca0bb0ae2ac",
   "metadata": {},
   "source": [
    "------------------------------------------------------------------------------------------------------------------------"
   ]
  },
  {
   "cell_type": "code",
   "execution_count": 15,
   "id": "42f1d3a8-b8a3-47a1-927a-8aec7e358d4a",
   "metadata": {},
   "outputs": [],
   "source": [
    "sc.stop()"
   ]
  },
  {
   "cell_type": "code",
   "execution_count": null,
   "id": "e444041a-ac6f-44fd-b737-d55bb6bf9a3b",
   "metadata": {},
   "outputs": [],
   "source": []
  }
 ],
 "metadata": {
  "kernelspec": {
   "display_name": "Python 3 (ipykernel)",
   "language": "python",
   "name": "python3"
  },
  "language_info": {
   "codemirror_mode": {
    "name": "ipython",
    "version": 3
   },
   "file_extension": ".py",
   "mimetype": "text/x-python",
   "name": "python",
   "nbconvert_exporter": "python",
   "pygments_lexer": "ipython3",
   "version": "3.11.9"
  }
 },
 "nbformat": 4,
 "nbformat_minor": 5
}
