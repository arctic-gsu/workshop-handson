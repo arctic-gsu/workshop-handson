{
 "cells": [
  {
   "cell_type": "markdown",
   "id": "cca42d86-21a3-4a94-86ff-a0198d8554ba",
   "metadata": {},
   "source": [
    "# FlatMap"
   ]
  },
  {
   "cell_type": "markdown",
   "id": "0b10251a-7ae8-4fc0-a753-829fb28b39c0",
   "metadata": {},
   "source": [
    "Returns multiple values for each element in original RDD"
   ]
  },
  {
   "cell_type": "code",
   "execution_count": 1,
   "id": "18930430-5453-4523-9069-30a3e2e332d1",
   "metadata": {},
   "outputs": [],
   "source": [
    "alist = [\"Hi, how are you\", \"How have you been?\"]"
   ]
  },
  {
   "cell_type": "code",
   "execution_count": 2,
   "id": "19e22740-696d-4012-90d7-ab8bc557596e",
   "metadata": {},
   "outputs": [],
   "source": [
    "from pyspark import SparkContext"
   ]
  },
  {
   "cell_type": "code",
   "execution_count": 8,
   "id": "1c2ba833-b462-436a-8446-ad91a35737ff",
   "metadata": {},
   "outputs": [],
   "source": [
    "sc = SparkContext()"
   ]
  },
  {
   "cell_type": "code",
   "execution_count": 9,
   "id": "65a9afe5-5665-4686-8bd6-b4ab3b66c48d",
   "metadata": {},
   "outputs": [],
   "source": [
    "RDD = sc.parallelize(alist)"
   ]
  },
  {
   "cell_type": "code",
   "execution_count": null,
   "id": "c7549f09-05d7-4773-9aa4-4a593303c6f1",
   "metadata": {},
   "outputs": [],
   "source": [
    "RDD_flatmap = RDD.flatMap(lambda x: x.split(' '))"
   ]
  },
  {
   "cell_type": "code",
   "execution_count": null,
   "id": "2666a886-cedc-4789-9bbb-3f80404a80db",
   "metadata": {},
   "outputs": [],
   "source": [
    "RDD_flatmap.collect()"
   ]
  },
  {
   "cell_type": "markdown",
   "id": "51520078-0d59-4192-afc0-91e0f6ab6860",
   "metadata": {},
   "source": [
    "# Union"
   ]
  },
  {
   "cell_type": "code",
   "execution_count": null,
   "id": "67f02aa2-074b-438a-a8b5-ef0ee0a221c7",
   "metadata": {},
   "outputs": [],
   "source": [
    "alist = [1,2]"
   ]
  },
  {
   "cell_type": "code",
   "execution_count": null,
   "id": "4d668732-eb72-4328-9c11-330a37cf7e0d",
   "metadata": {},
   "outputs": [],
   "source": [
    "rdd = sc.parallelize(alist)"
   ]
  },
  {
   "cell_type": "code",
   "execution_count": null,
   "id": "c292a421-e5c4-4521-a666-ebdaa78840a2",
   "metadata": {},
   "outputs": [],
   "source": [
    "firstRDD = rdd.map(lambda x: x**2)\n",
    "firstRDD"
   ]
  },
  {
   "cell_type": "code",
   "execution_count": null,
   "id": "b6ff0a1b-d243-4927-a3d1-4c246f3fb369",
   "metadata": {},
   "outputs": [],
   "source": [
    "type(firstRDD)"
   ]
  },
  {
   "cell_type": "code",
   "execution_count": 4,
   "id": "25a26b8f-9922-4ef0-9e92-7638560702bf",
   "metadata": {},
   "outputs": [
    {
     "ename": "NameError",
     "evalue": "name 'rdd' is not defined",
     "output_type": "error",
     "traceback": [
      "\u001b[0;31m---------------------------------------------------------------------------\u001b[0m",
      "\u001b[0;31mNameError\u001b[0m                                 Traceback (most recent call last)",
      "Cell \u001b[0;32mIn[4], line 1\u001b[0m\n\u001b[0;32m----> 1\u001b[0m secondRDD \u001b[38;5;241m=\u001b[39m \u001b[43mrdd\u001b[49m\u001b[38;5;241m.\u001b[39mmap(\u001b[38;5;28;01mlambda\u001b[39;00m x: x\u001b[38;5;241m*\u001b[39m\u001b[38;5;241m*\u001b[39m\u001b[38;5;241m3\u001b[39m)\n\u001b[1;32m      2\u001b[0m secondRDD\n",
      "\u001b[0;31mNameError\u001b[0m: name 'rdd' is not defined"
     ]
    }
   ],
   "source": [
    "secondRDD = rdd.map(lambda x: x**3)\n",
    "secondRDD"
   ]
  },
  {
   "cell_type": "code",
   "execution_count": 5,
   "id": "1a2031fb-0879-465b-87ab-f10dd2ba46d1",
   "metadata": {},
   "outputs": [
    {
     "ename": "NameError",
     "evalue": "name 'firstRDD' is not defined",
     "output_type": "error",
     "traceback": [
      "\u001b[0;31m---------------------------------------------------------------------------\u001b[0m",
      "\u001b[0;31mNameError\u001b[0m                                 Traceback (most recent call last)",
      "Cell \u001b[0;32mIn[5], line 1\u001b[0m\n\u001b[0;32m----> 1\u001b[0m combineRDD \u001b[38;5;241m=\u001b[39m \u001b[43mfirstRDD\u001b[49m\u001b[38;5;241m.\u001b[39munion(secondRDD)\n\u001b[1;32m      2\u001b[0m combineRDD\n",
      "\u001b[0;31mNameError\u001b[0m: name 'firstRDD' is not defined"
     ]
    }
   ],
   "source": [
    "combineRDD = firstRDD.union(secondRDD)\n",
    "combineRDD"
   ]
  },
  {
   "cell_type": "code",
   "execution_count": 6,
   "id": "9a9ecd96-0729-4964-acc1-de3bd8ba1e4a",
   "metadata": {},
   "outputs": [
    {
     "ename": "NameError",
     "evalue": "name 'combineRDD' is not defined",
     "output_type": "error",
     "traceback": [
      "\u001b[0;31m---------------------------------------------------------------------------\u001b[0m",
      "\u001b[0;31mNameError\u001b[0m                                 Traceback (most recent call last)",
      "Cell \u001b[0;32mIn[6], line 1\u001b[0m\n\u001b[0;32m----> 1\u001b[0m \u001b[43mcombineRDD\u001b[49m\u001b[38;5;241m.\u001b[39mcollect()\n",
      "\u001b[0;31mNameError\u001b[0m: name 'combineRDD' is not defined"
     ]
    }
   ],
   "source": [
    "combineRDD.collect()"
   ]
  },
  {
   "cell_type": "code",
   "execution_count": 7,
   "id": "bcbee244-3157-490f-9d8c-ef8b111e7cff",
   "metadata": {},
   "outputs": [
    {
     "ename": "NameError",
     "evalue": "name 'sc' is not defined",
     "output_type": "error",
     "traceback": [
      "\u001b[0;31m---------------------------------------------------------------------------\u001b[0m",
      "\u001b[0;31mNameError\u001b[0m                                 Traceback (most recent call last)",
      "Cell \u001b[0;32mIn[7], line 1\u001b[0m\n\u001b[0;32m----> 1\u001b[0m \u001b[43msc\u001b[49m\u001b[38;5;241m.\u001b[39mstop()\n",
      "\u001b[0;31mNameError\u001b[0m: name 'sc' is not defined"
     ]
    }
   ],
   "source": [
    "sc.stop()"
   ]
  },
  {
   "cell_type": "code",
   "execution_count": null,
   "id": "5dbbc33c-df5c-489a-b76d-bf795b11f51e",
   "metadata": {},
   "outputs": [],
   "source": []
  },
  {
   "cell_type": "code",
   "execution_count": null,
   "id": "6047fd69-c60b-4ed7-9ea3-dabecc19849d",
   "metadata": {},
   "outputs": [],
   "source": []
  },
  {
   "cell_type": "code",
   "execution_count": null,
   "id": "22780759-eee9-45e0-a891-863f78833679",
   "metadata": {},
   "outputs": [],
   "source": []
  },
  {
   "cell_type": "code",
   "execution_count": null,
   "id": "05519e71-42a1-497d-a759-adbdc758a134",
   "metadata": {},
   "outputs": [],
   "source": []
  }
 ],
 "metadata": {
  "kernelspec": {
   "display_name": "Python 3 (ipykernel)",
   "language": "python",
   "name": "python3"
  },
  "language_info": {
   "codemirror_mode": {
    "name": "ipython",
    "version": 3
   },
   "file_extension": ".py",
   "mimetype": "text/x-python",
   "name": "python",
   "nbconvert_exporter": "python",
   "pygments_lexer": "ipython3",
   "version": "3.11.9"
  }
 },
 "nbformat": 4,
 "nbformat_minor": 5
}
