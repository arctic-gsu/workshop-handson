{
 "cells": [
  {
   "cell_type": "markdown",
   "id": "0294ab9c-6eec-4c99-bae4-908a8e1e6d1a",
   "metadata": {},
   "source": [
    "# PairRDD"
   ]
  },
  {
   "cell_type": "markdown",
   "id": "ffd8f57b-7cce-4984-ba61-cc8695192c09",
   "metadata": {},
   "source": [
    "## ReduceByKey"
   ]
  },
  {
   "cell_type": "markdown",
   "id": "e3696041-3db0-42e8-97f3-ce0ab794015b",
   "metadata": {},
   "source": [
    "Suppose we have a list showing who many fruits we bought. And we now want to merge by key i.e. the key \"apple\" should have value of 3 after performaing reduceByKey operation"
   ]
  },
  {
   "cell_type": "code",
   "execution_count": 2,
   "id": "335b2775-a548-4b8e-9c82-09ca91e45864",
   "metadata": {},
   "outputs": [],
   "source": [
    "alist = [(\"Apple\",2), (\"Orange\",1), (\"Apple\",1)]"
   ]
  },
  {
   "cell_type": "code",
   "execution_count": 3,
   "id": "641a3a0e-ec84-47db-870c-449448b864cc",
   "metadata": {},
   "outputs": [],
   "source": [
    "from pyspark import SparkContext"
   ]
  },
  {
   "cell_type": "code",
   "execution_count": 4,
   "id": "218c51e4-ce64-45a7-bc26-03db2330278b",
   "metadata": {},
   "outputs": [],
   "source": [
    "sc = SparkContext()"
   ]
  },
  {
   "cell_type": "code",
   "execution_count": 5,
   "id": "b1ac64d8-0610-4b36-a533-e183cb761969",
   "metadata": {},
   "outputs": [
    {
     "data": {
      "text/plain": [
       "pyspark.rdd.RDD"
      ]
     },
     "execution_count": 5,
     "metadata": {},
     "output_type": "execute_result"
    }
   ],
   "source": [
    "tupleRDD = sc.parallelize(alist)\n",
    "type(tupleRDD)"
   ]
  },
  {
   "cell_type": "code",
   "execution_count": 6,
   "id": "38a7078a-927f-4212-baf8-8b8329c1de41",
   "metadata": {},
   "outputs": [],
   "source": [
    "pair_reduce_by_key = tupleRDD.reduceByKey(lambda x,y:x+y)"
   ]
  },
  {
   "cell_type": "markdown",
   "id": "96d413a4-c26d-4c0a-9aef-1f181d8738e3",
   "metadata": {},
   "source": [
    "Performing action"
   ]
  },
  {
   "cell_type": "code",
   "execution_count": 7,
   "id": "cae8d906-38eb-49d5-89fb-eeedb5611da6",
   "metadata": {},
   "outputs": [
    {
     "data": {
      "text/plain": [
       "[('Orange', 1), ('Apple', 3)]"
      ]
     },
     "execution_count": 7,
     "metadata": {},
     "output_type": "execute_result"
    }
   ],
   "source": [
    "pair_reduce_by_key.collect()"
   ]
  },
  {
   "cell_type": "markdown",
   "id": "12e5d307-e127-4548-be20-2ed3cbf68327",
   "metadata": {},
   "source": [
    "------------------------------------------------------------------------------------------------------------------------------------------------------------------------"
   ]
  },
  {
   "cell_type": "markdown",
   "id": "b58750dc-d809-414e-92c8-00ed6fca5190",
   "metadata": {},
   "source": [
    "## SortByKey"
   ]
  },
  {
   "cell_type": "code",
   "execution_count": 8,
   "id": "5093101b-bcfc-4504-a091-c95b70976523",
   "metadata": {},
   "outputs": [],
   "source": [
    "tupleRDD = sc.parallelize([(\"a\", 15), (\"b\",10), (\"c\", 20)])"
   ]
  },
  {
   "cell_type": "code",
   "execution_count": 9,
   "id": "22cd96af-357c-42cd-8263-0d0684b0459b",
   "metadata": {},
   "outputs": [],
   "source": [
    "pair_reduce_by_key = tupleRDD.sortByKey(ascending=True).collect()"
   ]
  },
  {
   "cell_type": "code",
   "execution_count": 10,
   "id": "995b3999-0e66-4b95-b1a9-3b7392d11d42",
   "metadata": {},
   "outputs": [
    {
     "data": {
      "text/plain": [
       "[('a', 15), ('b', 10), ('c', 20)]"
      ]
     },
     "execution_count": 10,
     "metadata": {},
     "output_type": "execute_result"
    }
   ],
   "source": [
    "pair_reduce_by_key"
   ]
  },
  {
   "cell_type": "markdown",
   "id": "c58384d9-6feb-4ca4-811d-147ed32d12e7",
   "metadata": {},
   "source": [
    "Revert the values, as now we want to sort by max values, ascending"
   ]
  },
  {
   "cell_type": "code",
   "execution_count": 11,
   "id": "cb5565b5-1c2a-445b-b424-d8376770ef59",
   "metadata": {},
   "outputs": [],
   "source": [
    "pair_reduce_by_key_by_asc = tupleRDD.map(lambda x:( x[1], x[0]))"
   ]
  },
  {
   "cell_type": "code",
   "execution_count": 12,
   "id": "74838697-c68d-476f-a861-3fa7ab57849c",
   "metadata": {
    "scrolled": true
   },
   "outputs": [
    {
     "data": {
      "text/plain": [
       "[(20, 'c'), (15, 'a'), (10, 'b')]"
      ]
     },
     "execution_count": 12,
     "metadata": {},
     "output_type": "execute_result"
    }
   ],
   "source": [
    "pair_reduce_by_key = pair_reduce_by_key_by_asc.sortByKey(ascending=False).collect()\n",
    "pair_reduce_by_key"
   ]
  },
  {
   "cell_type": "markdown",
   "id": "97a4f3ea-6318-43e2-9494-7b8ea3b94722",
   "metadata": {},
   "source": [
    "------------------------------------------------------------------------------------------------------------------------------------------------------------------------"
   ]
  },
  {
   "cell_type": "markdown",
   "id": "48917831-a34f-40c5-b843-b618fbe933e6",
   "metadata": {},
   "source": [
    "## GroupByKey"
   ]
  },
  {
   "cell_type": "code",
   "execution_count": 13,
   "id": "fc04e263-83ed-4143-94d4-957604ec0a3a",
   "metadata": {},
   "outputs": [],
   "source": [
    "tuplelist = [(\"apple\", \"red\"), (\"apple\", \"green\"),(\"banana\", \"yellow\")]"
   ]
  },
  {
   "cell_type": "code",
   "execution_count": 14,
   "id": "bd9b3095-2b7e-4375-9125-0b5e803d0312",
   "metadata": {},
   "outputs": [],
   "source": [
    "tupleRDD = sc.parallelize(tuplelist )"
   ]
  },
  {
   "cell_type": "code",
   "execution_count": 15,
   "id": "b3bee71b-d751-4f46-b3a9-17783b3aad0c",
   "metadata": {},
   "outputs": [],
   "source": [
    "groupedTupleRDD = tupleRDD.groupByKey().collect()"
   ]
  },
  {
   "cell_type": "code",
   "execution_count": 16,
   "id": "e2d5bfba-4d88-4d74-ac46-1682c913bb97",
   "metadata": {},
   "outputs": [
    {
     "name": "stdout",
     "output_type": "stream",
     "text": [
      "apple ['red', 'green']\n",
      "banana ['yellow']\n"
     ]
    }
   ],
   "source": [
    "for key, values in groupedTupleRDD:\n",
    "    print(key, list(values))"
   ]
  },
  {
   "cell_type": "markdown",
   "id": "c34b68ff-fdb8-4368-8722-163cc16a0a1b",
   "metadata": {},
   "source": [
    "------------------------------------------------------------------------------------------------------------------------------------------------------------------------"
   ]
  },
  {
   "cell_type": "markdown",
   "id": "c52033c6-3fdd-4ef2-b152-fe09de39c04b",
   "metadata": {},
   "source": [
    "## Join"
   ]
  },
  {
   "cell_type": "code",
   "execution_count": 17,
   "id": "3e948b15-3c16-4677-bca6-48316a68f37f",
   "metadata": {},
   "outputs": [],
   "source": [
    "aListTuple = [(\"a\",1), (\"b\", 2)]\n",
    "bListTuple = [(\"a\",2), (\"c\", 2)]"
   ]
  },
  {
   "cell_type": "code",
   "execution_count": 18,
   "id": "c22165a7-91a2-4b11-bec9-4e9a9d42de0d",
   "metadata": {},
   "outputs": [],
   "source": [
    "aRDD = sc.parallelize(aListTuple)\n",
    "bRDD = sc.parallelize(bListTuple)\n"
   ]
  },
  {
   "cell_type": "code",
   "execution_count": 19,
   "id": "7c39bce8-bbf0-41f4-a347-027f34ea3504",
   "metadata": {},
   "outputs": [],
   "source": [
    "joinRDD = aRDD.join(bRDD).collect()"
   ]
  },
  {
   "cell_type": "code",
   "execution_count": 20,
   "id": "5be77a65-82e8-417b-8eb9-2b7b69704fc8",
   "metadata": {},
   "outputs": [
    {
     "data": {
      "text/plain": [
       "[('a', (1, 2))]"
      ]
     },
     "execution_count": 20,
     "metadata": {},
     "output_type": "execute_result"
    }
   ],
   "source": [
    "joinRDD"
   ]
  },
  {
   "cell_type": "markdown",
   "id": "8cc9203d-c39e-4051-989b-6eede1bf307f",
   "metadata": {},
   "source": [
    "------------------------------------------------------------------------------------------------------------------------------------------------------------------------"
   ]
  },
  {
   "cell_type": "markdown",
   "id": "d24c2164-ff77-455e-9bee-c1117a7379d7",
   "metadata": {},
   "source": [
    "# CountByKey"
   ]
  },
  {
   "cell_type": "code",
   "execution_count": 22,
   "id": "deb07307-546b-457e-97f4-c13eadebd76a",
   "metadata": {},
   "outputs": [],
   "source": [
    "rdd = sc.parallelize([(\"a\", 1), (\"b\", 2), (\"a\", 3)])"
   ]
  },
  {
   "cell_type": "code",
   "execution_count": 26,
   "id": "0acd69db-bc39-44cd-982a-b90a4e073abc",
   "metadata": {},
   "outputs": [
    {
     "data": {
      "text/plain": [
       "defaultdict(int, {'a': 2, 'b': 1})"
      ]
     },
     "execution_count": 26,
     "metadata": {},
     "output_type": "execute_result"
    }
   ],
   "source": [
    "rdd_key_count = rdd.countByKey()\n",
    "rdd_key_count"
   ]
  },
  {
   "cell_type": "code",
   "execution_count": 28,
   "id": "05cd77b0-0623-478a-b27b-a9b4e8481cf9",
   "metadata": {},
   "outputs": [
    {
     "name": "stdout",
     "output_type": "stream",
     "text": [
      "a 2\n",
      "b 1\n"
     ]
    }
   ],
   "source": [
    "for key, value in rdd_key_count.items():\n",
    "    print(key, value)"
   ]
  },
  {
   "cell_type": "markdown",
   "id": "67466524-c43a-4c38-b89c-c17e646f6c8e",
   "metadata": {},
   "source": [
    "# CollectAsMap"
   ]
  },
  {
   "cell_type": "code",
   "execution_count": 31,
   "id": "8dead1fe-4b73-459c-9e88-1698c3c976a1",
   "metadata": {},
   "outputs": [
    {
     "data": {
      "text/plain": [
       "{4: 1, 5: 2}"
      ]
     },
     "execution_count": 31,
     "metadata": {},
     "output_type": "execute_result"
    }
   ],
   "source": [
    "rdd = sc.parallelize([(4, 1), (5, 2)])\n",
    "rdd_map = rdd.collectAsMap()\n",
    "rdd_map"
   ]
  },
  {
   "cell_type": "markdown",
   "id": "dcf9bd38-f144-48a0-bd73-83fc8304a831",
   "metadata": {},
   "source": [
    "# Practice:"
   ]
  },
  {
   "cell_type": "code",
   "execution_count": 76,
   "id": "e6fa8c18-a0ea-4fd5-b811-c370b506558e",
   "metadata": {},
   "outputs": [],
   "source": [
    "alist= [(1,2),(3,4),(3,6),(4,5)]"
   ]
  },
  {
   "cell_type": "markdown",
   "id": "cd8a84ff-c685-4dd1-9b2d-deeeba616ba7",
   "metadata": {},
   "source": [
    "Create PairRDD Rdd with key value pairs"
   ]
  },
  {
   "cell_type": "code",
   "execution_count": 78,
   "id": "3ee88cd1-cfc2-4bd0-8c45-b1fd1c4d8bff",
   "metadata": {},
   "outputs": [],
   "source": [
    "# Rdd = sc.parallelize(____)"
   ]
  },
  {
   "cell_type": "markdown",
   "id": "7f820f2b-85a1-4a85-8179-faffd8799931",
   "metadata": {},
   "source": [
    "Apply reduceByKey() operation on Rdd"
   ]
  },
  {
   "cell_type": "code",
   "execution_count": 79,
   "id": "7e4c4c13-2d6e-4b3e-adc7-3f70f05c9ad0",
   "metadata": {},
   "outputs": [],
   "source": [
    "# Rdd_Reduced = Rdd.reduceByKey(lambda x, y: ____)"
   ]
  },
  {
   "cell_type": "markdown",
   "id": "232518c1-9d06-4bec-9ea8-d1d4734f62b8",
   "metadata": {},
   "source": [
    "Iterate over the result and print the output\n"
   ]
  },
  {
   "cell_type": "code",
   "execution_count": 80,
   "id": "37f64170-f2d5-4ab8-9332-b68cb16481a4",
   "metadata": {},
   "outputs": [],
   "source": [
    "# for num in Rdd_Reduced.____: \n",
    "#   print(\"Key {} has {} Counts\".format(____, num[1]))"
   ]
  },
  {
   "cell_type": "markdown",
   "id": "80a5633a-824c-4b76-8092-38e64403174e",
   "metadata": {},
   "source": [
    "Sort the reduced RDD with the key by descending order"
   ]
  },
  {
   "cell_type": "code",
   "execution_count": 83,
   "id": "639aa856-c485-4c4e-b9c0-6b1019a37941",
   "metadata": {},
   "outputs": [],
   "source": [
    "# Rdd_Reduced_Sort = Rdd_Reduced.____(ascending=False)"
   ]
  },
  {
   "cell_type": "markdown",
   "id": "5ac96c86-26bc-4b2c-b94b-641175455eb5",
   "metadata": {},
   "source": [
    "Iterate over the result and retrieve all the elements of the RDD"
   ]
  },
  {
   "cell_type": "code",
   "execution_count": 84,
   "id": "2ec3e3a8-88fc-4667-97f1-8d3fb02fab4b",
   "metadata": {},
   "outputs": [],
   "source": [
    "# for num in Rdd_Reduced_Sort.____():\n",
    "#   print(\"Key {} has {} Counts\".format(____, num[1]))"
   ]
  },
  {
   "cell_type": "markdown",
   "id": "7472037d-c222-45d3-9a4f-3f34a954a052",
   "metadata": {},
   "source": [
    "Count the unique keys"
   ]
  },
  {
   "cell_type": "code",
   "execution_count": 40,
   "id": "f581a727-63d5-4d1c-bee3-3873c81af162",
   "metadata": {},
   "outputs": [],
   "source": [
    "Rdd = sc.parallelize([(1,2),(3,4), (1,5)])"
   ]
  },
  {
   "cell_type": "code",
   "execution_count": 41,
   "id": "0adfe85f-0be7-4e9d-a280-5fc66a089ef7",
   "metadata": {},
   "outputs": [],
   "source": [
    "# total = Rdd.____()"
   ]
  },
  {
   "cell_type": "markdown",
   "id": "cf547c5e-5484-406a-b8a1-716594291be4",
   "metadata": {},
   "source": [
    "What is the type of total?"
   ]
  },
  {
   "cell_type": "code",
   "execution_count": 43,
   "id": "8c982dee-3262-474d-8a11-71c2ad8bce18",
   "metadata": {},
   "outputs": [],
   "source": [
    "# print(\"The type of total is\", ____(total))\n"
   ]
  },
  {
   "cell_type": "markdown",
   "id": "34712ac8-5380-44d8-b964-50ab7eeb6af1",
   "metadata": {},
   "source": [
    "Iterate over the total and print the output\n"
   ]
  },
  {
   "cell_type": "code",
   "execution_count": 44,
   "id": "9b63bde9-2d35-49a0-a027-96f8e5f582e8",
   "metadata": {},
   "outputs": [],
   "source": [
    "# for k, v in total.___(): \n",
    "#   print(\"key\", ____, \"has\", ____, \"counts\")"
   ]
  },
  {
   "cell_type": "markdown",
   "id": "4150a144-1fe3-4092-9330-f8b33a682ce8",
   "metadata": {},
   "source": [
    "Create a baseRDD from the file path"
   ]
  },
  {
   "cell_type": "code",
   "execution_count": null,
   "id": "01b8746e-8ad1-422c-85cb-23a9372d3889",
   "metadata": {},
   "outputs": [],
   "source": [
    "# baseRDD = sc.____(file_path)"
   ]
  },
  {
   "cell_type": "markdown",
   "id": "4082f42b-1f5c-4d97-97af-61f6ff1bac90",
   "metadata": {},
   "source": [
    "Split the lines of baseRDD into words"
   ]
  },
  {
   "cell_type": "code",
   "execution_count": 46,
   "id": "838aa9b9-b8ba-4d82-8852-ba74d18964e8",
   "metadata": {},
   "outputs": [],
   "source": [
    "# splitRDD = baseRDD.____(lambda x: x.split())"
   ]
  },
  {
   "cell_type": "markdown",
   "id": "3770e3c8-9204-438d-bc2c-4c98db563316",
   "metadata": {},
   "source": [
    "Count the total number of words\n"
   ]
  },
  {
   "cell_type": "code",
   "execution_count": 47,
   "id": "0a840938-405d-48df-b9d7-6d368535edc4",
   "metadata": {},
   "outputs": [],
   "source": [
    "# print(\"Total number of words in splitRDD:\", splitRDD.____())"
   ]
  },
  {
   "cell_type": "markdown",
   "id": "e0f392bc-50a5-4f17-a210-ac33dfe3b45a",
   "metadata": {},
   "source": [
    "Convert the words in lower case and remove stop words from the stop_words curated list\n"
   ]
  },
  {
   "cell_type": "code",
   "execution_count": 49,
   "id": "baa2425c-07f6-4ecc-ad92-8191661afbc6",
   "metadata": {},
   "outputs": [],
   "source": [
    "# splitRDD_no_stop = splitRDD.____(lambda x: x.lower() not in ____)"
   ]
  },
  {
   "cell_type": "markdown",
   "id": "8ae84f72-4037-4ac4-9a0a-cd392f29d4e5",
   "metadata": {},
   "source": [
    "Create a tuple of the word and 1 \n"
   ]
  },
  {
   "cell_type": "code",
   "execution_count": 51,
   "id": "e4fc8069-9627-43fb-b40e-604c210491ec",
   "metadata": {},
   "outputs": [],
   "source": [
    "# splitRDD_no_stop_words = splitRDD_no_stop.map(lambda w: (____, ____))"
   ]
  },
  {
   "cell_type": "markdown",
   "id": "03e4a9c1-d9de-4586-8453-526f18b2190f",
   "metadata": {},
   "source": [
    "Count of the number of occurences of each word\n"
   ]
  },
  {
   "cell_type": "code",
   "execution_count": 1,
   "id": "95a51f87-41d6-40b7-b930-04d2fdbd25d7",
   "metadata": {},
   "outputs": [],
   "source": [
    "# resultRDD = splitRDD_no_stop_words.____(lambda x, y: x + y)"
   ]
  },
  {
   "cell_type": "markdown",
   "id": "dc7a9268-1dce-4a50-ac95-f0b62920bbe1",
   "metadata": {},
   "source": [
    "Now, to the the words after reoving stopwords"
   ]
  },
  {
   "cell_type": "code",
   "execution_count": null,
   "id": "bf4e4f5b-32f9-4169-90d7-d79078f1895a",
   "metadata": {},
   "outputs": [],
   "source": []
  }
 ],
 "metadata": {
  "kernelspec": {
   "display_name": "Python 3 (ipykernel)",
   "language": "python",
   "name": "python3"
  },
  "language_info": {
   "codemirror_mode": {
    "name": "ipython",
    "version": 3
   },
   "file_extension": ".py",
   "mimetype": "text/x-python",
   "name": "python",
   "nbconvert_exporter": "python",
   "pygments_lexer": "ipython3",
   "version": "3.11.9"
  }
 },
 "nbformat": 4,
 "nbformat_minor": 5
}
