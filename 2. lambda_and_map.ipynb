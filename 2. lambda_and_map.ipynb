{
 "cells": [
  {
   "cell_type": "markdown",
   "id": "f1af63a3-520e-43a5-a153-5ef79144ed0c",
   "metadata": {},
   "source": [
    "# Lambda Functions"
   ]
  },
  {
   "cell_type": "markdown",
   "id": "983e4db1-70c4-4c86-b936-41040c3e2cda",
   "metadata": {},
   "source": [
    "If we had to write normally without lambda then we would do"
   ]
  },
  {
   "cell_type": "code",
   "execution_count": 26,
   "id": "224c96f6-933a-445a-b477-cd2b415d25bb",
   "metadata": {},
   "outputs": [
    {
     "data": {
      "text/plain": [
       "4"
      ]
     },
     "execution_count": 26,
     "metadata": {},
     "output_type": "execute_result"
    }
   ],
   "source": [
    "def square(x):\n",
    "    return x ** 2\n",
    "square(2)"
   ]
  },
  {
   "cell_type": "markdown",
   "id": "e2e81a2f-44bf-4907-a17f-ab8ccfe43b97",
   "metadata": {},
   "source": [
    "This is a simple lambda expression"
   ]
  },
  {
   "cell_type": "code",
   "execution_count": 25,
   "id": "832390f1-0814-4f1f-84bc-1f6ecb3f4281",
   "metadata": {},
   "outputs": [
    {
     "data": {
      "text/plain": [
       "4"
      ]
     },
     "execution_count": 25,
     "metadata": {},
     "output_type": "execute_result"
    }
   ],
   "source": [
    "value = lambda x: x**2\n",
    "value(2)"
   ]
  },
  {
   "cell_type": "markdown",
   "id": "26eadcf2-4e0d-4aa7-a2c4-bca0d91a1a44",
   "metadata": {},
   "source": [
    "Note: there is no return function and we can put lambda funtion anywhere"
   ]
  },
  {
   "cell_type": "markdown",
   "id": "6fd1ce68-5213-4753-a951-20d9d6c499fa",
   "metadata": {},
   "source": [
    "------------------------------------------------------------------------------------------------------"
   ]
  },
  {
   "cell_type": "markdown",
   "id": "e576a15d-e56b-4d62-8c22-5487bb3951ca",
   "metadata": {},
   "source": [
    "## Map"
   ]
  },
  {
   "cell_type": "markdown",
   "id": "41fa9dbf-33b8-406d-a506-784238853a36",
   "metadata": {},
   "source": [
    "Mainly this lambda function is used with map and filter\n",
    "\n",
    "Syntax: map(function, list)"
   ]
  },
  {
   "cell_type": "markdown",
   "id": "cac7e10b-7662-4574-949b-4ec46b82ee11",
   "metadata": {},
   "source": [
    "Writing a simple function to add 2 to all the values int he list"
   ]
  },
  {
   "cell_type": "code",
   "execution_count": 36,
   "id": "a460e2ac-76b5-45ea-9d94-87362f8f0dec",
   "metadata": {},
   "outputs": [
    {
     "data": {
      "text/plain": [
       "[3, 4]"
      ]
     },
     "execution_count": 36,
     "metadata": {},
     "output_type": "execute_result"
    }
   ],
   "source": [
    "list(map(lambda x: x+2, [1,2]))"
   ]
  },
  {
   "cell_type": "markdown",
   "id": "17f728ed-491d-4da3-86c4-0d1e79cddd6d",
   "metadata": {},
   "source": [
    "------------------------------------------------------------------------------------------------------"
   ]
  },
  {
   "cell_type": "markdown",
   "id": "a4fd963d-69f4-4b4a-b719-ac813a57ae0c",
   "metadata": {},
   "source": [
    "## Filter"
   ]
  },
  {
   "cell_type": "markdown",
   "id": "194528aa-14dc-4324-b033-01db8561cc57",
   "metadata": {},
   "source": [
    "Filter function has a function and a list, which outputs all the values "
   ]
  },
  {
   "cell_type": "markdown",
   "id": "efd385b4-90e0-453b-80a5-de580a3c8c0c",
   "metadata": {},
   "source": [
    "Writing a simple function to get items which is not equal to 2"
   ]
  },
  {
   "cell_type": "code",
   "execution_count": 37,
   "id": "033928c4-ebb9-4928-b4ab-d2be9d37eed1",
   "metadata": {},
   "outputs": [
    {
     "data": {
      "text/plain": [
       "[1, 3, 4]"
      ]
     },
     "execution_count": 37,
     "metadata": {},
     "output_type": "execute_result"
    }
   ],
   "source": [
    "list(filter(lambda x: (x!=2), [1,2,3,4]))"
   ]
  },
  {
   "cell_type": "markdown",
   "id": "550ae1cb-fe16-4c76-8d24-31dda48da5cc",
   "metadata": {},
   "source": [
    "------------------------------------------------------------------------------------------------------"
   ]
  },
  {
   "cell_type": "markdown",
   "id": "06d54066-ea8c-4f50-aed7-92ee7a51e593",
   "metadata": {},
   "source": [
    "## Class work: uncomment and complete the ___ blanks"
   ]
  },
  {
   "cell_type": "markdown",
   "id": "5454a6f3-95d3-4a8b-87e2-78e382f3ad56",
   "metadata": {},
   "source": [
    "Given this list"
   ]
  },
  {
   "cell_type": "code",
   "execution_count": 40,
   "id": "dc782604-1260-433d-a8c1-bce9c619083f",
   "metadata": {},
   "outputs": [],
   "source": [
    "my_list = [1,2,3,4]"
   ]
  },
  {
   "cell_type": "markdown",
   "id": "018a6d93-fdd7-4e12-a999-ab798a2e532f",
   "metadata": {},
   "source": [
    "Print my_list in the console"
   ]
  },
  {
   "cell_type": "code",
   "execution_count": 46,
   "id": "847b63da-bcc3-4fc6-9f26-47396ea29944",
   "metadata": {},
   "outputs": [],
   "source": [
    "# print(\"Input list is\", )"
   ]
  },
  {
   "cell_type": "markdown",
   "id": "24f005ed-56ae-433d-bcb0-1e3cb42ea8c8",
   "metadata": {},
   "source": [
    "Square all numbers in my_list"
   ]
  },
  {
   "cell_type": "code",
   "execution_count": 47,
   "id": "febb499f-3685-4d9f-8bc5-d31b3369384d",
   "metadata": {},
   "outputs": [],
   "source": [
    "# squared_list_lambda = list(____(lambda x: ____, my_list))\n",
    "# squared_list_lambda"
   ]
  },
  {
   "cell_type": "markdown",
   "id": "5980e802-a45a-4fdf-bebf-fceb65daefb2",
   "metadata": {},
   "source": [
    "Print the result of the map function"
   ]
  },
  {
   "cell_type": "code",
   "execution_count": 48,
   "id": "a8b7a798-4031-43bb-9f58-2e54a841890d",
   "metadata": {},
   "outputs": [],
   "source": [
    "# print(\"The squared numbers are\", ____)"
   ]
  },
  {
   "cell_type": "markdown",
   "id": "d22e3373-8561-4a39-943e-02b487a76142",
   "metadata": {},
   "source": [
    "------------------------------------------------------------------------------------------------------"
   ]
  },
  {
   "cell_type": "code",
   "execution_count": 49,
   "id": "c66e0e6d-c886-4e84-8023-44cc3af8df76",
   "metadata": {},
   "outputs": [],
   "source": [
    "my_list2 = [5,10,15,20,25,30]"
   ]
  },
  {
   "cell_type": "markdown",
   "id": "8dd97301-9247-4a86-abb4-12e7ca6ac3b1",
   "metadata": {},
   "source": [
    "Print my_list2 in the console"
   ]
  },
  {
   "cell_type": "code",
   "execution_count": 51,
   "id": "e0dcd86d-649d-4fef-8eff-1a199af844ad",
   "metadata": {},
   "outputs": [],
   "source": [
    "# print(\"Input list is:\", ____)"
   ]
  },
  {
   "cell_type": "markdown",
   "id": "5a03198c-5f1a-49b0-8e2b-94bf2938a27f",
   "metadata": {},
   "source": [
    "Filter numbers divisible by 10"
   ]
  },
  {
   "cell_type": "code",
   "execution_count": 61,
   "id": "9eaa8c9c-4b87-4930-ab44-884ae0ba3ad0",
   "metadata": {},
   "outputs": [],
   "source": [
    "# filtered_list = list(____(lambda x: (x%10 == ____), my_list2))\n",
    "# filtered_list"
   ]
  },
  {
   "cell_type": "markdown",
   "id": "8282507f-efdf-4399-a291-39f6fb93f2a1",
   "metadata": {},
   "source": [
    "Print the numbers divisible by 10"
   ]
  },
  {
   "cell_type": "code",
   "execution_count": 62,
   "id": "ba8c8647-d55a-472b-8fef-d1c60b235547",
   "metadata": {},
   "outputs": [],
   "source": [
    "# print(\"Numbers divisible by 10 are:\", ____)"
   ]
  },
  {
   "cell_type": "markdown",
   "id": "8b2594b1-e98e-44fe-80ac-25f1e19b3acf",
   "metadata": {},
   "source": [
    "------------------------------------------------------------------------------------------------------"
   ]
  }
 ],
 "metadata": {
  "kernelspec": {
   "display_name": "Python 3 (ipykernel)",
   "language": "python",
   "name": "python3"
  },
  "language_info": {
   "codemirror_mode": {
    "name": "ipython",
    "version": 3
   },
   "file_extension": ".py",
   "mimetype": "text/x-python",
   "name": "python",
   "nbconvert_exporter": "python",
   "pygments_lexer": "ipython3",
   "version": "3.11.9"
  }
 },
 "nbformat": 4,
 "nbformat_minor": 5
}
