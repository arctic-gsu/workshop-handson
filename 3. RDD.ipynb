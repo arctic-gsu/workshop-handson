{
 "cells": [
  {
   "cell_type": "markdown",
   "id": "44da70ea-b7b1-4f80-8674-35851b893ebb",
   "metadata": {},
   "source": [
    "# Parallelized Collection"
   ]
  },
  {
   "cell_type": "code",
   "execution_count": 12,
   "id": "d8658983-5590-4c72-a65e-8025c7c5b998",
   "metadata": {},
   "outputs": [],
   "source": [
    "from pyspark import SparkContext"
   ]
  },
  {
   "cell_type": "code",
   "execution_count": 13,
   "id": "ed46cbcf-b2d5-46f0-8bd6-cbd63f502f3f",
   "metadata": {},
   "outputs": [],
   "source": [
    "sc = SparkContext()"
   ]
  },
  {
   "cell_type": "code",
   "execution_count": 14,
   "id": "ddb44016-caa3-4ccc-99e1-5abd7fa96d55",
   "metadata": {},
   "outputs": [],
   "source": [
    "numRDD = sc.parallelize([1,2,3,4,5,6])"
   ]
  },
  {
   "cell_type": "markdown",
   "id": "b35f42c7-3643-49a0-a0bb-e52d91fab650",
   "metadata": {},
   "source": [
    "Checking type"
   ]
  },
  {
   "cell_type": "code",
   "execution_count": 15,
   "id": "60d14f00-85d7-4252-bb89-9bd3c391aca2",
   "metadata": {},
   "outputs": [
    {
     "data": {
      "text/plain": [
       "pyspark.rdd.RDD"
      ]
     },
     "execution_count": 15,
     "metadata": {},
     "output_type": "execute_result"
    }
   ],
   "source": [
    "type(numRDD)"
   ]
  },
  {
   "cell_type": "markdown",
   "id": "4e82d376-c088-487f-84d2-e753ee6cd891",
   "metadata": {},
   "source": [
    "Loading from external sources"
   ]
  },
  {
   "cell_type": "code",
   "execution_count": 16,
   "id": "af049f8e-4e57-4ed3-910c-3b165cf28a99",
   "metadata": {},
   "outputs": [],
   "source": [
    "fileRDD = sc.textFile(\"file_for_rdd.txt\")"
   ]
  },
  {
   "cell_type": "code",
   "execution_count": 17,
   "id": "c1d91d6c-ed85-4b14-99f7-428bbe03567f",
   "metadata": {},
   "outputs": [
    {
     "data": {
      "text/plain": [
       "pyspark.rdd.RDD"
      ]
     },
     "execution_count": 17,
     "metadata": {},
     "output_type": "execute_result"
    }
   ],
   "source": [
    "type(fileRDD)"
   ]
  },
  {
   "cell_type": "markdown",
   "id": "7611bc42-9610-4853-8119-709cadcac92c",
   "metadata": {},
   "source": [
    "---------------------------------------------------------------------------------------------------------------------"
   ]
  },
  {
   "cell_type": "markdown",
   "id": "210f5286-51e8-46f2-a0b4-552af99705bf",
   "metadata": {},
   "source": [
    "# Partition in Pyspark"
   ]
  },
  {
   "cell_type": "code",
   "execution_count": 18,
   "id": "1da76b97-8658-4dbb-99ca-4e5a194f87cd",
   "metadata": {},
   "outputs": [],
   "source": [
    "numRDD = sc.parallelize([1,2,3,4,5,6], numSlices=10)"
   ]
  },
  {
   "cell_type": "code",
   "execution_count": 19,
   "id": "5880f752-99c2-4dd6-b568-f73b4999178f",
   "metadata": {
    "scrolled": true
   },
   "outputs": [
    {
     "data": {
      "text/plain": [
       "pyspark.rdd.RDD"
      ]
     },
     "execution_count": 19,
     "metadata": {},
     "output_type": "execute_result"
    }
   ],
   "source": [
    "type(numRDD)"
   ]
  },
  {
   "cell_type": "markdown",
   "id": "cb49683c-e477-4dc0-8d68-8184e2432fd2",
   "metadata": {},
   "source": [
    "We can check the number of partitions by"
   ]
  },
  {
   "cell_type": "code",
   "execution_count": 20,
   "id": "3ec05fb6-3f0b-454d-b33b-590b5056dc8d",
   "metadata": {},
   "outputs": [
    {
     "data": {
      "text/plain": [
       "10"
      ]
     },
     "execution_count": 20,
     "metadata": {},
     "output_type": "execute_result"
    }
   ],
   "source": [
    "numRDD.getNumPartitions()"
   ]
  },
  {
   "cell_type": "markdown",
   "id": "14a57707-6f6f-41bb-8b64-269d5f5cc803",
   "metadata": {},
   "source": [
    "# Practice: \n",
    "read the file with name file_for_rdd.txt"
   ]
  },
  {
   "cell_type": "code",
   "execution_count": 24,
   "id": "5429307c-552c-41c8-91da-048b92e613c5",
   "metadata": {},
   "outputs": [],
   "source": [
    "# fileRDD = sc.textFile(\"\")"
   ]
  },
  {
   "cell_type": "markdown",
   "id": "1c851fbb-4dc1-4968-93f2-cb27589f3d21",
   "metadata": {},
   "source": [
    "---------------------------------------------------------------------------------------------------------------------"
   ]
  },
  {
   "cell_type": "code",
   "execution_count": 25,
   "id": "03ec476b-fef6-49c3-976f-fe794dcedcea",
   "metadata": {},
   "outputs": [],
   "source": [
    "sc.stop()"
   ]
  },
  {
   "cell_type": "code",
   "execution_count": null,
   "id": "593cf63a-8f26-407d-95d4-a1eb40cdd034",
   "metadata": {},
   "outputs": [],
   "source": []
  }
 ],
 "metadata": {
  "kernelspec": {
   "display_name": "Python 3 (ipykernel)",
   "language": "python",
   "name": "python3"
  },
  "language_info": {
   "codemirror_mode": {
    "name": "ipython",
    "version": 3
   },
   "file_extension": ".py",
   "mimetype": "text/x-python",
   "name": "python",
   "nbconvert_exporter": "python",
   "pygments_lexer": "ipython3",
   "version": "3.11.9"
  }
 },
 "nbformat": 4,
 "nbformat_minor": 5
}
