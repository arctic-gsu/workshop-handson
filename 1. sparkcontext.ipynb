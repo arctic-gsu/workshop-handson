{
 "cells": [
  {
   "cell_type": "markdown",
   "id": "98e29356-3f59-4485-9a98-69ecd76591b6",
   "metadata": {},
   "source": [
    "Todo:\n",
    "- Print SparkContext version.\n",
    "- Print SparkContext Python version.\n",
    "- What is the master of SparkContext in the PySpark shell?"
   ]
  },
  {
   "cell_type": "code",
   "execution_count": 5,
   "id": "4223a489-a3ad-4276-aeb8-7c475ae9de53",
   "metadata": {},
   "outputs": [],
   "source": [
    "from pyspark import SparkContext"
   ]
  },
  {
   "cell_type": "code",
   "execution_count": 6,
   "id": "ef099aed-699e-46c8-a92a-0ea5343d370d",
   "metadata": {},
   "outputs": [],
   "source": [
    "sc = SparkContext()"
   ]
  },
  {
   "cell_type": "markdown",
   "id": "0f14270e-b1e1-42bc-ae3b-da45181db677",
   "metadata": {},
   "source": [
    "## Print the version of SparkContext"
   ]
  },
  {
   "cell_type": "code",
   "execution_count": 6,
   "id": "bd2edd5f-cac5-49c4-8173-44867742eb0d",
   "metadata": {},
   "outputs": [
    {
     "name": "stdout",
     "output_type": "stream",
     "text": [
      "The version of Spark Context in the PySpark shell is\n"
     ]
    }
   ],
   "source": [
    "print(\"The version of Spark Context in the PySpark shell is sc.\",)"
   ]
  },
  {
   "cell_type": "markdown",
   "id": "deb6e596-659a-4754-a7da-25e631a4f78e",
   "metadata": {},
   "source": [
    "## Print the Python version of SparkContext"
   ]
  },
  {
   "cell_type": "code",
   "execution_count": 7,
   "id": "8b8965c6-8d0e-4e95-a588-5a709266a7f6",
   "metadata": {},
   "outputs": [
    {
     "name": "stdout",
     "output_type": "stream",
     "text": [
      "The Python version of Spark Context in the PySpark shell is sc.\n"
     ]
    }
   ],
   "source": [
    "print(\"The Python version of Spark Context in the PySpark shell is sc.\",)"
   ]
  },
  {
   "cell_type": "markdown",
   "id": "bf6c4aee-db02-4a46-97de-7d22ce6c42a5",
   "metadata": {},
   "source": [
    "## Print the master of SparkContext"
   ]
  },
  {
   "cell_type": "code",
   "execution_count": 9,
   "id": "823f0b11-6c00-4328-9e5e-f31071f170d9",
   "metadata": {},
   "outputs": [
    {
     "name": "stdout",
     "output_type": "stream",
     "text": [
      "The master of Spark Context in the PySpark shell is sc.\n"
     ]
    }
   ],
   "source": [
    "print(\"The master of Spark Context in the PySpark shell is sc.\", )"
   ]
  },
  {
   "cell_type": "markdown",
   "id": "8b2ddfcb-96c7-4ff9-aed2-67a98e554468",
   "metadata": {},
   "source": [
    "## Create a Python list of numbers from 1 to 100 with parallelize\n"
   ]
  },
  {
   "cell_type": "code",
   "execution_count": 1,
   "id": "f7349e75-c8f1-49d5-bb47-8d25eeb14b4c",
   "metadata": {},
   "outputs": [],
   "source": [
    "# numb = range(____, ____)\n",
    "\n",
    "# # Load the list into PySpark  \n",
    "# spark_data = sc.____(numb)\n",
    "# spark_data.collect()"
   ]
  },
  {
   "cell_type": "markdown",
   "id": "18d43c9f-df8e-4e47-ae40-4bf9bebf0dac",
   "metadata": {},
   "source": [
    "## Load a local file named file_for_rdd.txt into PySpark shell with textFile"
   ]
  },
  {
   "cell_type": "code",
   "execution_count": 2,
   "id": "8cb60be4-6bfe-4ed2-a200-e7adb907bd2b",
   "metadata": {},
   "outputs": [],
   "source": [
    "# lines = sc.____(file_path)\n",
    "# type(lines)"
   ]
  },
  {
   "cell_type": "code",
   "execution_count": 3,
   "id": "25c43b23-06e1-47e1-bdf4-09bfc4647695",
   "metadata": {},
   "outputs": [],
   "source": [
    "# lines.collect()"
   ]
  },
  {
   "cell_type": "code",
   "execution_count": 7,
   "id": "d8072b55-c325-4412-be76-dabb47d3375c",
   "metadata": {},
   "outputs": [],
   "source": [
    "sc.stop()"
   ]
  },
  {
   "cell_type": "code",
   "execution_count": null,
   "id": "bbe9b5e7-2855-4240-a74c-0fb0f0e36c08",
   "metadata": {},
   "outputs": [],
   "source": []
  }
 ],
 "metadata": {
  "kernelspec": {
   "display_name": "Python 3 (ipykernel)",
   "language": "python",
   "name": "python3"
  },
  "language_info": {
   "codemirror_mode": {
    "name": "ipython",
    "version": 3
   },
   "file_extension": ".py",
   "mimetype": "text/x-python",
   "name": "python",
   "nbconvert_exporter": "python",
   "pygments_lexer": "ipython3",
   "version": "3.11.9"
  }
 },
 "nbformat": 4,
 "nbformat_minor": 5
}
