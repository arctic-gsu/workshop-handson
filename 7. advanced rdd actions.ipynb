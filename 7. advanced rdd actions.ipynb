{
 "cells": [
  {
   "cell_type": "markdown",
   "id": "7b04d1bc-ab36-4b4f-a877-120d53330f7f",
   "metadata": {},
   "source": [
    "# Advanced RDD Actions"
   ]
  },
  {
   "cell_type": "code",
   "execution_count": 20,
   "id": "d3696e5b-b041-4a3f-810b-56b0596c14cc",
   "metadata": {},
   "outputs": [],
   "source": [
    "from pyspark import SparkContext"
   ]
  },
  {
   "cell_type": "code",
   "execution_count": 21,
   "id": "fa9ad3aa-a5f5-4dc4-a9ad-a2b78642bd52",
   "metadata": {},
   "outputs": [],
   "source": [
    "sc = SparkContext()"
   ]
  },
  {
   "cell_type": "markdown",
   "id": "28e339f8-93ac-4839-9953-c22baad76b95",
   "metadata": {},
   "source": [
    "## reduce() action"
   ]
  },
  {
   "cell_type": "markdown",
   "id": "54892782-7d1f-4f63-a937-59cdfd2b313a",
   "metadata": {},
   "source": [
    "Using reduce function, we add all the values in the list"
   ]
  },
  {
   "cell_type": "code",
   "execution_count": 22,
   "id": "87f6ae3e-8d10-4ede-86e2-01a443c0314c",
   "metadata": {},
   "outputs": [],
   "source": [
    "alist = [1,2,3,4,5]\n",
    "rdd = sc.parallelize(alist)"
   ]
  },
  {
   "cell_type": "code",
   "execution_count": 23,
   "id": "3f74af1b-bde2-430e-9c91-ebe14bdaa9c9",
   "metadata": {},
   "outputs": [
    {
     "data": {
      "text/plain": [
       "15"
      ]
     },
     "execution_count": 23,
     "metadata": {},
     "output_type": "execute_result"
    }
   ],
   "source": [
    "rdd.reduce(lambda x, y: (x+y))"
   ]
  },
  {
   "cell_type": "markdown",
   "id": "278eb411-a334-4e26-ad08-b453852303d4",
   "metadata": {},
   "source": [
    "# SaveAsTextFile"
   ]
  },
  {
   "cell_type": "code",
   "execution_count": 25,
   "id": "b7e0d08a-ebb4-45ea-9e83-159773584f25",
   "metadata": {
    "scrolled": true
   },
   "outputs": [],
   "source": [
    "rdd.saveAsTextFile(\"saving1dir\")"
   ]
  },
  {
   "cell_type": "markdown",
   "id": "ae623913-13d8-4726-8894-ee1f01ed756f",
   "metadata": {},
   "source": [
    "if need to store all partitions in one file\n"
   ]
  },
  {
   "cell_type": "code",
   "execution_count": 26,
   "id": "03495996-3303-43df-8a1f-66a261e694a1",
   "metadata": {},
   "outputs": [],
   "source": [
    "rdd.coalesce(1).saveAsTextFile(\"tempFile\")"
   ]
  },
  {
   "cell_type": "code",
   "execution_count": 27,
   "id": "5b1eaa6a-928f-44cd-acc0-11efa1a4b5f5",
   "metadata": {},
   "outputs": [],
   "source": [
    "sc.stop()"
   ]
  }
 ],
 "metadata": {
  "kernelspec": {
   "display_name": "Python 3 (ipykernel)",
   "language": "python",
   "name": "python3"
  },
  "language_info": {
   "codemirror_mode": {
    "name": "ipython",
    "version": 3
   },
   "file_extension": ".py",
   "mimetype": "text/x-python",
   "name": "python",
   "nbconvert_exporter": "python",
   "pygments_lexer": "ipython3",
   "version": "3.11.9"
  }
 },
 "nbformat": 4,
 "nbformat_minor": 5
}
