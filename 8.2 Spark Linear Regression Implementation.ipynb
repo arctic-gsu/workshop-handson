{
 "cells": [
  {
   "cell_type": "code",
   "execution_count": 1,
   "metadata": {
    "colab": {
     "base_uri": "https://localhost:8080/"
    },
    "id": "DWY-Yx5qS1UH",
    "outputId": "6e543f3a-f95e-479a-fe5b-e9bdb96ef64d"
   },
   "outputs": [
    {
     "name": "stdout",
     "output_type": "stream",
     "text": [
      "Collecting pyspark\n",
      "  Downloading pyspark-3.5.1.tar.gz (317.0 MB)\n",
      "\u001b[2K     \u001b[90m━━━━━━━━━━━━━━━━━━━━━━━━━━━━━━━━━━━━━━━━\u001b[0m \u001b[32m317.0/317.0 MB\u001b[0m \u001b[31m4.5 MB/s\u001b[0m eta \u001b[36m0:00:00\u001b[0m\n",
      "\u001b[?25h  Preparing metadata (setup.py) ... \u001b[?25l\u001b[?25hdone\n",
      "Requirement already satisfied: py4j==0.10.9.7 in /usr/local/lib/python3.10/dist-packages (from pyspark) (0.10.9.7)\n",
      "Building wheels for collected packages: pyspark\n",
      "  Building wheel for pyspark (setup.py) ... \u001b[?25l\u001b[?25hdone\n",
      "  Created wheel for pyspark: filename=pyspark-3.5.1-py2.py3-none-any.whl size=317488493 sha256=922d7fecf48826f97a9fd3948a31d8a08c021853120d44b67a85a6644aa9b8e9\n",
      "  Stored in directory: /root/.cache/pip/wheels/80/1d/60/2c256ed38dddce2fdd93be545214a63e02fbd8d74fb0b7f3a6\n",
      "Successfully built pyspark\n",
      "Installing collected packages: pyspark\n",
      "Successfully installed pyspark-3.5.1\n"
     ]
    }
   ],
   "source": [
    "!pip install pyspark"
   ]
  },
  {
   "cell_type": "code",
   "execution_count": 46,
   "metadata": {
    "id": "jjCtH149S1_w"
   },
   "outputs": [],
   "source": [
    "from pyspark.ml.regression import LinearRegression\n",
    "from pyspark.sql import SparkSession\n",
    "from pyspark.ml.linalg import Vectors\n"
   ]
  },
  {
   "cell_type": "markdown",
   "metadata": {
    "id": "Qvx-bvV5Tm75"
   },
   "source": [
    "Initialize spark session"
   ]
  },
  {
   "cell_type": "code",
   "execution_count": 47,
   "metadata": {
    "id": "6hTEQ0LNTFYG"
   },
   "outputs": [],
   "source": [
    "spark = SparkSession.builder.appName(\"LinearRegression\").getOrCreate()"
   ]
  },
  {
   "cell_type": "markdown",
   "metadata": {
    "id": "eHt7q6kNTpbk"
   },
   "source": [
    "Get input data\n",
    "\n",
    "Input data example:\n",
    "\n",
    "We have 2 columns seperated by comma.\n",
    "\n",
    "-1.74,1.66</br>\n",
    "1.24,-1.18</br>\n",
    "0.29,-0.40</br>\n",
    "-0.13,0.09</br>\n",
    "-0.39,0.38</br>\n",
    "-1.79,1.73</br>"
   ]
  },
  {
   "cell_type": "code",
   "execution_count": 48,
   "metadata": {
    "id": "92WY0SdHTmTl"
   },
   "outputs": [],
   "source": [
    "inputLines = spark.sparkContext.textFile(\"/content/regression.txt\")"
   ]
  },
  {
   "cell_type": "markdown",
   "metadata": {
    "id": "XNvawoBcUwSv"
   },
   "source": [
    "We use RDD interface to parse the data out. We then map x, where x represents each row of RDD, extracts first column which is the label which we are predicting. First column is amount spent, then after that there are features that we are using. In our case we only have one feature, i.e. the page speed. We could create a dense vector consisting multiple features to multivariate linear regression."
   ]
  },
  {
   "cell_type": "code",
   "execution_count": 49,
   "metadata": {
    "colab": {
     "base_uri": "https://localhost:8080/"
    },
    "id": "4xYzeVmTYRgK",
    "outputId": "6fc92eac-d01c-47bc-bd68-61541040591e"
   },
   "outputs": [
    {
     "data": {
      "text/plain": [
       "['-1.74,1.66', '1.24,-1.18']"
      ]
     },
     "execution_count": 49,
     "metadata": {},
     "output_type": "execute_result"
    }
   ],
   "source": [
    "inputLines.take(2)"
   ]
  },
  {
   "cell_type": "code",
   "execution_count": 50,
   "metadata": {
    "id": "9l3VUvDKUivR"
   },
   "outputs": [],
   "source": [
    "data = inputLines.map(lambda x:x.split(\",\")).map(lambda x:(float(x[0]), Vectors.dense(float(x[1]))))"
   ]
  },
  {
   "cell_type": "markdown",
   "metadata": {
    "id": "iBsiM3CWV6Kp"
   },
   "source": [
    "We now create spark dataframe"
   ]
  },
  {
   "cell_type": "code",
   "execution_count": 39,
   "metadata": {
    "colab": {
     "base_uri": "https://localhost:8080/"
    },
    "id": "KlrzMvlcX-8m",
    "outputId": "cf8e3381-f5de-4ed5-c51a-3d73a76512e3"
   },
   "outputs": [
    {
     "data": {
      "text/plain": [
       "[Row(_1=-1.74, _2=DenseVector([1.66])), Row(_1=1.24, _2=DenseVector([-1.18]))]"
      ]
     },
     "execution_count": 39,
     "metadata": {},
     "output_type": "execute_result"
    }
   ],
   "source": [
    "df = data.toDF()\n",
    "df.take(2)"
   ]
  },
  {
   "cell_type": "code",
   "execution_count": 57,
   "metadata": {
    "id": "SrKBIKzmZ6Ez"
   },
   "outputs": [],
   "source": [
    "trainTest = df.randomSplit([0.8,0.2])\n",
    "trainDF = trainTest[0]\n",
    "testDF = trainTest[1]"
   ]
  },
  {
   "cell_type": "markdown",
   "metadata": {
    "id": "o4CW-ykxZm9N"
   },
   "source": [
    "Initializing Linear Regression with hyperparameters:\n",
    "\n",
    "\n",
    "- maxIter: Controls the number of iterations for the optimization algorithm.\n",
    "- regParam: Determines the amount of regularization to apply, helping to prevent overfitting.\n",
    "- elasticNetParam: Balances between L1 and L2 regularization to combine their strengths."
   ]
  },
  {
   "cell_type": "code",
   "execution_count": 56,
   "metadata": {
    "id": "rUpVTCjmXWYp"
   },
   "outputs": [],
   "source": [
    "spark_LR = LinearRegression(maxIter=10, regParam=0.3, elasticNetParam=0.8, labelCol=\"label\")"
   ]
  },
  {
   "cell_type": "code",
   "execution_count": 58,
   "metadata": {
    "id": "WqAD8R_GXUqN"
   },
   "outputs": [],
   "source": [
    "model = spark_LR.fit(trainDF)"
   ]
  },
  {
   "cell_type": "markdown",
   "metadata": {
    "id": "x3Vy0XLHaliN"
   },
   "source": [
    "Next, we predict with our test set. Cache the data for doing stuffs with the result dataset."
   ]
  },
  {
   "cell_type": "code",
   "execution_count": 59,
   "metadata": {
    "id": "kY5yjZo9aVow"
   },
   "outputs": [],
   "source": [
    "predictions = model.transform(testDF).cache()"
   ]
  },
  {
   "cell_type": "code",
   "execution_count": 61,
   "metadata": {
    "colab": {
     "base_uri": "https://localhost:8080/"
    },
    "id": "05krkezmabN5",
    "outputId": "136c58d4-3a5b-42e4-9f3d-ea675a7436e7"
   },
   "outputs": [
    {
     "name": "stdout",
     "output_type": "stream",
     "text": [
      "+-----+--------+-------------------+\n",
      "|label|features|         prediction|\n",
      "+-----+--------+-------------------+\n",
      "|-3.74|  [3.75]| -2.646319368372646|\n",
      "|-2.58|  [2.57]|  -1.81081549155598|\n",
      "|-2.07|  [2.04]|-1.4355468011213761|\n",
      "|-1.94|  [1.94]|-1.3647413878318282|\n",
      "|-1.74|  [1.66]| -1.166486230621094|\n",
      "|-1.67|  [1.46]| -1.024875404041998|\n",
      "|-1.58|  [1.65]| -1.159405689292139|\n",
      "|-1.42|  [1.59]|-1.1169224413184105|\n",
      "| -1.4|  [1.32]|-0.9257478254366309|\n",
      "| -1.3|  [1.45]| -1.017794862713043|\n",
      "|-1.12|   [1.1]|-0.7699759161996255|\n",
      "|-1.11|   [1.0]|-0.6991705029100774|\n",
      "|-0.94|   [1.0]|-0.6991705029100774|\n",
      "|-0.89|  [1.04]|-0.7274926682258966|\n",
      "|-0.84|  [0.83]|-0.5788013003178459|\n",
      "|-0.84|  [0.89]|-0.6212845482915746|\n",
      "| -0.8|   [0.8]|-0.5575596763309816|\n",
      "|-0.76|  [0.84]|-0.5858818416468007|\n",
      "|-0.71|  [0.55]|-0.3805461431071117|\n",
      "|-0.68|  [0.88]|-0.6142040069626199|\n",
      "+-----+--------+-------------------+\n",
      "only showing top 20 rows\n",
      "\n"
     ]
    }
   ],
   "source": [
    "predictions.show()"
   ]
  },
  {
   "cell_type": "code",
   "execution_count": 62,
   "metadata": {
    "id": "22G6J76-aeqp"
   },
   "outputs": [],
   "source": [
    "spark.stop()"
   ]
  }
 ],
 "metadata": {
  "colab": {
   "provenance": []
  },
  "kernelspec": {
   "display_name": "Python 3 (ipykernel)",
   "language": "python",
   "name": "python3"
  },
  "language_info": {
   "codemirror_mode": {
    "name": "ipython",
    "version": 3
   },
   "file_extension": ".py",
   "mimetype": "text/x-python",
   "name": "python",
   "nbconvert_exporter": "python",
   "pygments_lexer": "ipython3",
   "version": "3.11.9"
  }
 },
 "nbformat": 4,
 "nbformat_minor": 4
}
